{
 "cells": [
  {
   "cell_type": "markdown",
   "metadata": {},
   "source": [
    "# Max Flow Applications\n",
    "\n",
    "The purpose of this assignment is to investigate applications of finding a Max Flow. The problem asks you to design and implement an algorithm for shipping a material between nodes with different supply and demand requirements.\n",
    "\n",
    "* Please write code *only* in the bodies of the two functions, that is, following the TODO comments.\n",
    "* Be careful not to use variables defined outside of the functions.\n",
    "* Breaking the two above rules may lead to 0 grades."
   ]
  },
  {
   "cell_type": "markdown",
   "metadata": {},
   "source": [
    "## Movie distribution\n",
    "\n",
    "First solve Problem 2 from HW4 (theory part). \n",
    "\n",
    "Now suppose a movie distributor would like to ship a copy of a film from CA to every other state. There are therefore 48 units to ship out of CA, and each other state receives 1 unit. \n",
    "\n",
    "The dataset contiguous-usa.dat lists the adjacent states in the US. Each line lists two adjacent states; thus AK and HI are omitted, but DC is included in the data. The following code reads in the graph of US states."
   ]
  },
  {
   "cell_type": "code",
   "execution_count": 1,
   "metadata": {},
   "outputs": [],
   "source": [
    "import networkx as nx\n",
    "G = nx.Graph()\n",
    "\n",
    "usa = open('contiguous-usa.dat')\n",
    "for line in usa:\n",
    "    s1, s2 = line.strip().split()\n",
    "    G.add_edge(s1, s2)"
   ]
  },
  {
   "cell_type": "markdown",
   "metadata": {},
   "source": [
    "We now encode the demands into the graph."
   ]
  },
  {
   "cell_type": "code",
   "execution_count": 2,
   "metadata": {},
   "outputs": [],
   "source": [
    "for state in G.nodes():\n",
    "    if state != 'CA':\n",
    "        G.nodes[state]['demand'] = 1\n",
    "G.nodes['CA']['demand'] = -48"
   ]
  },
  {
   "cell_type": "markdown",
   "metadata": {},
   "source": [
    "We will assign a uniform capacity of 16 to each edge. Since CA has only three adjacent states, this is the smallest possible uniform capacity that allows one to ship all 48 units out of CA. As we have created an undirected graph, and flows have directions, we first convert the graph to a directed graph."
   ]
  },
  {
   "cell_type": "code",
   "execution_count": 3,
   "metadata": {},
   "outputs": [],
   "source": [
    "G = nx.DiGraph(G)\n",
    "uniform_capacity = 16\n",
    "for (s1, s2) in G.edges():\n",
    "    G.edges[s1, s2]['capacity'] = uniform_capacity"
   ]
  },
  {
   "cell_type": "markdown",
   "metadata": {},
   "source": [
    "Complete the following function to implement your algorithm to find a flow with demands. Your function should work correctly for any input, not just the movie instance considered here. As always, you are encouraged to define auxiliary functions as needed for clarity."
   ]
  },
  {
   "cell_type": "code",
   "execution_count": 4,
   "metadata": {},
   "outputs": [],
   "source": [
    "def flow_with_demands(graph):\n",
    "    \"\"\"Computes a flow with demands over the given graph.\n",
    "    \n",
    "    Args:\n",
    "        graph: A directed graph with nodes annotated with 'demand' properties and edges annotated with 'capacity' \n",
    "            properties.\n",
    "        \n",
    "    Returns:\n",
    "        A dict of dicts containing the flow on each edge. For instance, flow[s1][s2] should provide the flow along\n",
    "        edge (s1, s2).\n",
    "        \n",
    "    Raises:\n",
    "        NetworkXUnfeasible: An error is thrown if there is no flow satisfying the demands.\n",
    "    \"\"\"\n",
    "    try:\n",
    "        # Create a copy of the original graph to add source and sink node\n",
    "        transformed_graph = graph.copy()\n",
    "\n",
    "        # Add a source and sink to the transformed graph and make demand be 0\n",
    "        source = \"SOURCE\"\n",
    "        sink = \"SINK\"\n",
    "        transformed_graph.add_node(source, demand = 0)\n",
    "        transformed_graph.add_node(sink, demand = 0)\n",
    "        \n",
    "        # Initialize total demand variable to make sure flow is feasible\n",
    "        total_demand = 0 \n",
    "\n",
    "        # Connect source to nodes with negative demand\n",
    "        for node in graph.nodes():\n",
    "            demand = graph.nodes[node].get('demand', 0)\n",
    "            if demand < 0:\n",
    "                transformed_graph.add_edge(source, node, capacity = - demand)\n",
    "\n",
    "        # Connect nodes with positive demand to sink\n",
    "        for node in graph.nodes():\n",
    "            demand = graph.nodes[node].get('demand', 0)\n",
    "            if demand > 0:\n",
    "                transformed_graph.add_edge(node, sink, capacity = demand)\n",
    "                # Add demand to total demand to get how much flow out of all graph\n",
    "                total_demand = total_demand + demand\n",
    "\n",
    "        # Run the maximum flow algorithm to find flow with demands\n",
    "        total_flow, flow = nx.maximum_flow(transformed_graph, source, sink)\n",
    "        \n",
    "        # An error is thrown if the total flow is not equal to the total demand on the network\n",
    "        if total_flow != total_demand:\n",
    "            raise nx.NetworkXUnfeasible('No flow satisying the demands')\n",
    "        \n",
    "        # Remove source, sink, and all edges to and from source and sink from the flow \n",
    "        delete = ['SOURCE', 'SINK']\n",
    "        for node in flow.values():\n",
    "            for key in delete:\n",
    "                if key in node:\n",
    "                    del node[key]      \n",
    "        del flow['SOURCE']\n",
    "        del flow['SINK']\n",
    "\n",
    "    \n",
    "        return flow\n",
    "\n",
    "    except nx.NetworkXUnfeasible:\n",
    "        # An error is thrown if there is no flow satisfying the demands\n",
    "        raise nx.NetworkXUnfeasible(\"No feasible flow satisfying the demands.\")"
   ]
  },
  {
   "cell_type": "markdown",
   "metadata": {},
   "source": [
    "To verify that your solution is correct, implement a function that computes the total flow into each node (which will be negative for supply nodes)."
   ]
  },
  {
   "cell_type": "code",
   "execution_count": 5,
   "metadata": {},
   "outputs": [],
   "source": [
    "def divergence(flow):\n",
    "    \"\"\"Computes the total flow into each node according to the given flow dict.\n",
    "    \n",
    "    Args:\n",
    "        flow: the flow dict recording flow between nodes.\n",
    "        \n",
    "    Returns:\n",
    "        A dict of the net flow into each node.\n",
    "    \"\"\"\n",
    "    # Initialize a dictionary to store the total flow for each node and keys\n",
    "    sum_flow = {}\n",
    "\n",
    "    # Calculate outflow from each node\n",
    "    for node, keys in flow.items():\n",
    "        # Initialize the flow for the current node\n",
    "        keys_flow = sum(curr_flow for curr_flow in keys.values())\n",
    "        # Store the negative of the total outflow for the current node\n",
    "        sum_flow[node] = - keys_flow\n",
    "\n",
    "    # Calculate inflow to each state\n",
    "    for keys in flow.values():\n",
    "        for curr_key, curr_flow in keys.items():\n",
    "            # Update the total flow for the current key, adding the inflow\n",
    "            # If the key is not already in total_flow, use 0 as the default value\n",
    "            sum_flow[curr_key] = curr_flow + sum_flow.get(curr_key, 0)\n",
    "            \n",
    "    # Return the final sum flow dictionary\n",
    "    return sum_flow"
   ]
  },
  {
   "cell_type": "markdown",
   "metadata": {},
   "source": [
    "The following code performs a sanity check on your function (but does not completely confirm correctness)."
   ]
  },
  {
   "cell_type": "code",
   "execution_count": 6,
   "metadata": {},
   "outputs": [],
   "source": [
    "flow = flow_with_demands(G)\n",
    "div = divergence(flow)\n",
    "#print (\"Flow satisfies all demands:\", all(div[n] == G.nodes[n]['demand'] for n in G.nodes()))"
   ]
  },
  {
   "cell_type": "code",
   "execution_count": null,
   "metadata": {},
   "outputs": [],
   "source": []
  }
 ],
 "metadata": {
  "kernelspec": {
   "display_name": "Python 3 (ipykernel)",
   "language": "python",
   "name": "python3"
  },
  "language_info": {
   "codemirror_mode": {
    "name": "ipython",
    "version": 3
   },
   "file_extension": ".py",
   "mimetype": "text/x-python",
   "name": "python",
   "nbconvert_exporter": "python",
   "pygments_lexer": "ipython3",
   "version": "3.11.4"
  }
 },
 "nbformat": 4,
 "nbformat_minor": 1
}
