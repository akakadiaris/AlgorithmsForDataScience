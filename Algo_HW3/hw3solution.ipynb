{
 "cells": [
  {
   "cell_type": "markdown",
   "metadata": {},
   "source": [
    "# Connected Components\n",
    "\n",
    "The purpose of this assignment is to familiarize yourself with the handling of graph data structures. You will implement depth-first search for identifying the connected components of an undirected graph, implementing procedure Search as a subroutine along the way.\n",
    "\n",
    "You will use the [NetworkX](https://networkx.github.io/) Python package to represent and manipulate graphs. You should first familiarize yourself with its functionality by going through the brief [tutorial](https://networkx.org/documentation/stable/tutorial.html). For this homework, you may only use the basic undirected graph methods listed [here](https://networkx.org/documentation/stable/reference/classes/graph.html).\n",
    "\n",
    "As a use case, we will work with a dataset recording the interactions between characters in Homer's *Iliad*."
   ]
  },
  {
   "cell_type": "code",
   "execution_count": 1,
   "metadata": {},
   "outputs": [],
   "source": [
    "import networkx\n",
    "homer = open('homer.dat')"
   ]
  },
  {
   "cell_type": "markdown",
   "metadata": {},
   "source": [
    "The format of the data is straightforward. After some comment lines (beginning with \\*), the file lists a codename for each character (i.e., node of the graph), followed by a description. The file then lists the groups of characters that interact in each chapter, from which you will form the edges. For instance, the first line has the form:\n",
    "\n",
    "```1:CH,AG,ME,GS;AP,CH;HE,AC;AC,AG,CA;HE,AT;AT,AC;AT,OG;NE,AG,AC;CS,OD```\n",
    "\n",
    "This means that CH,AG,ME,GS interacted, so there are edges for all pairs of these nodes. Groups of characters that interacted are separated by semicolons. The lines start with chapter information of the form `1:` or `&:`, which can be ignored for this problem."
   ]
  },
  {
   "cell_type": "markdown",
   "metadata": {},
   "source": [
    "First implement a function to read in the nodes from the input file. You may implement any auxiliary functions as needed, and are encouraged to use small functions with specific purposes to keep your code readable. Any function you implement should be clearly commented."
   ]
  },
  {
   "cell_type": "markdown",
   "metadata": {},
   "source": [
    "Next implement a function to read in the edges from the input file."
   ]
  },
  {
   "cell_type": "code",
   "execution_count": 2,
   "metadata": {},
   "outputs": [],
   "source": [
    "def read_nodes(gfile):\n",
    "    \"\"\"Reads in the nodes of the graph from the input file.\n",
    "    \n",
    "    Args:\n",
    "        gfile: A handle for the file containing the graph data, starting at the top.\n",
    "        \n",
    "    Returns:\n",
    "        A list of the nodes in the graph of the form:\n",
    "            ['CH', 'AG, 'ME', ...]\n",
    "    \"\"\"\n",
    "    with open(gfile.name, 'r') as gfile:\n",
    "        # Move file pointer to the beginning of the file to start from reading from beginning of file\n",
    "        gfile.seek(0)\n",
    "    \n",
    "        # Initialize a list to store all of the characters\n",
    "        nodes = []\n",
    "    \n",
    "        # Go through gfile line by line\n",
    "        for line in gfile:\n",
    "        \n",
    "            # Skip empty lines, comments, and edges/chapter lines\n",
    "            if not line.strip() or line.startswith('*') or line.startswith('&') or ':' in line:\n",
    "                continue\n",
    "\n",
    "            # Split the line at the space and take the characters before the space - which are the character names\n",
    "            character_name = line.split(' ')[0]\n",
    "            # Add the abbreviated character names to the node list\n",
    "            nodes.append(character_name)\n",
    "    \n",
    "    # Optimal to close file after read nodes\n",
    "    gfile.close()  \n",
    "    # Return list of characters\n",
    "    return nodes\n",
    "\n",
    "    pass"
   ]
  },
  {
   "cell_type": "code",
   "execution_count": 3,
   "metadata": {},
   "outputs": [],
   "source": [
    "def read_edges(gfile):\n",
    "    \"\"\"Reads in the edges of the graph from the input file.\n",
    "    \n",
    "    Args:\n",
    "        gfile: A handle for the file containing the graph data, starting at the top \n",
    "            of the edges section.\n",
    "            \n",
    "    Returns:\n",
    "        The edges in the graph as a list of pairs of the form:\n",
    "            [('CH', 'AG'), ('AG', 'ME'), ...]\n",
    "    \"\"\"\n",
    "    # Initialize a list of all character interactions - or edges \n",
    "    edges = []\n",
    "        \n",
    "    with open(gfile.name, 'r') as gfile:\n",
    "        # Move file pointer to the beginning of the file to start from reading from the beginning of the file\n",
    "        gfile.seek(0)\n",
    "    \n",
    "        # Go through gfile line by line\n",
    "        for line in gfile:\n",
    "            # Remove whitespace\n",
    "            line = line.strip()  \n",
    "\n",
    "            # Check for a ':' to see if need to read the line\n",
    "            if ':' in line:\n",
    "                # Get rid of information not needed by splitting at ':'\n",
    "                interactions = line.split(':')[1].strip()\n",
    "                # Split the chapter data by ';' to get character groups\n",
    "                character_interactions = interactions.split(';')\n",
    "                for group in character_interactions:\n",
    "                    # Split the group by ',' to get characters\n",
    "                    characters = group.split(',')\n",
    "                    # If there are only two characters in the group, immediately append them to the edges\n",
    "                    if len(characters) == 2:\n",
    "                        edges.append((characters[0], characters[1]))\n",
    "                    # Otherwise, in each group, iterate through all characters and add the pair of characters to edges\n",
    "                    else:\n",
    "                        for i in range(len(characters)):\n",
    "                            for j in range(i + 1, len(characters)):\n",
    "                                edges.append((characters[i], characters[j]))\n",
    "            \n",
    "    # Optimal to close file after read edges                            \n",
    "    gfile.close()                    \n",
    "    # Return list of character interactions - or edges\n",
    "    return edges"
   ]
  },
  {
   "cell_type": "markdown",
   "metadata": {},
   "source": [
    "The following code should now correctly create the graph."
   ]
  },
  {
   "cell_type": "code",
   "execution_count": 6,
   "metadata": {},
   "outputs": [
    {
     "name": "stdout",
     "output_type": "stream",
     "text": [
      "['AA', 'AB', 'AC', 'AD', 'AE', 'AF', 'AG', 'AH', 'AI', 'AJ', 'AL', 'AM', 'AN', 'AO', 'AP', 'AR', 'AS', 'AT', 'AU', 'AX', 'AZ', 'BL', 'BO', 'BR', 'CA', 'CH', 'CI', 'CL', 'CM', 'CN', 'CR', 'CS', 'CT', 'DE', 'DI', 'DM', 'DN', 'DP', 'DT', 'EA', 'EB', 'EE', 'EF', 'EM', 'EN', 'EO', 'EP', 'ER', 'EU', 'FD', 'FY', 'GL', 'GR', 'GS', 'HA', 'HB', 'HC', 'HD', 'HE', 'HL', 'HM', 'HN', 'HO', 'HP', 'HR', 'HT', 'IA', 'ID', 'IR', 'LA', 'LE', 'LT', 'LY', 'MC', 'ME', 'MG', 'MO', 'MR', 'MT', 'MU', 'NE', 'NI', 'NO', 'NR', 'OC', 'OD', 'OG', 'OT', 'PA', 'PB', 'PC', 'PD', 'PE', 'PH', 'PL', 'PN', 'PO', 'PP', 'PR', 'PS', 'PT', 'PU', 'PX', 'RA', 'RH', 'RO', 'RU', 'SA', 'SE', 'SF', 'SI', 'SL', 'SP', 'ST', 'TA', 'TE', 'TH', 'TI', 'TL', 'TM', 'TR', 'TS', 'TT', 'TU', 'TY', 'WI', 'XA', 'XB', 'ZE', 'ZF', '01', '02', '03', '04', '05', '06', '07', '08', '09', '0A', '0B', '0C', '0D', '0E', '0F', '0G', '0H', '0I', '0J', '0K', '0L', '0M', '0N', '0O', '0P', '0Q', '0R', '0S', '0T', '0U', '0V', '0W', '0X', '0Y', '0Z', '10', '11', '12', '13', '14', '15', '16', '17', '18', '19', '1A', '1B', '1C', '1D', '1E', '1F', '1G', '1H', '1I', '1J', '1K', '1L', '1M', '1N', '1O', '1P', '1Q', '1R', '1S', '1T', '1U', '1V', '1W', '1X', '1Y', '1Z', '20', '21', '22', '23', '24', '25', '26', '27', '28', '29', '2A', '2B', '2C', '2D', '2E', '2F', '2G', '2H', '2I', '2J', '2K', '2L', '2M', '2N', '2O', '2P', '2Q', '2R', '2S', '2T', '2U', '2V', '2W', '2X', '2Y', '2Z', '30', '31', '32', '33', '34', '35', '36', '37', '38', '39', '3A', '3B', '3C', '3D', '3E', '3F', '3G', '3H', '3I', '3J', '3K', '3L', '3M', '3N', '3O', '3P', '3Q', '3R', '3S', '3T', '3U', '3V', '3W', '3X', '3Y', '3Z', '40', '41', '42', '43', '44', '45', '46', '47', '48', '49', '4A', '4B', '4C', '4F', '4G', '4H', '4I', '4J', '4K', '4L', '4M', '4N', '4O', '4P', '4Q', '4R', '4S', '4T', '4U', '4V', '4W', '4X', '4Y', '4Z', 'A0', 'B0', 'C0', 'D0', 'E0', 'F0', 'G0', 'H0', 'I0', 'J0', 'K0', 'L0', 'M0', 'N0', 'O0', 'P0', 'Q0', 'R0', 'S0', 'T0', 'U0', 'V0', 'W0', 'X0', 'Y0', 'Z0', 'A1', 'B1', 'C1', 'D1', 'E1', 'F1', 'G1', 'H1', 'I1', 'J1', 'K1', 'L1', 'M1', 'N1', 'O1', 'P1', 'Q1', 'R1', 'S1', 'T1', 'U1', 'V1', 'W1', 'X1', 'Y1', 'Z1', 'A2', 'B2', 'C2', 'D2', 'E2', 'F2', 'G2', 'H2', 'I2', 'J2', 'K2', 'L2', 'M2', 'N2', 'O2', 'P2', 'Q2', 'R2', 'S2', 'T2', 'U2', 'V2', 'W2', 'X2', '51', '52', '53', '54', '55', '56', '57', '58', '59', '5A', '5B', '5C', '5D', '5E', '5F', '5G', '5H', '5I', '5J', '5K', '5L', '5M', '5N', '5O', '5P', '5Q', '5R', '5S', '5T', '5U', '5V', '5W', '5X', '5Y', '5Z', '60', '61', '62', '63', '64', '65', '66', '67', '68', '69', '6A', '6B', '6C', '6D', '6E', '6F', '6G', '6H', '6I', '6J', '6K', '6L', '6M', '6N', '6O', '6P', '6Q', '6R', '6S', '6T', '6U', '6V', '6W', '6X', '6Y', '6Z', '70', '71', '72', '73', '74', '75', '76', '77', '78', '79', '7A', '7B', '7C', '7D', '7E', '7F', '7G', '7H', '7I', '7J', '7K', '7L', '7M', '7N', '7O', '7P', '7Q', '7R', '7S', '7T', '7U', '7V', '7W', '7X', '7Y', '7Z', '80', '81', '82', '83', '84', '85', '86', '87', '88', '89', '8A', '8B', '8C', '8D', '8E', '8F', '8G', '8H', '8I', '8J', '8K', '8L', '8M', '8N', '8O', '8P', '8Q', '8R', '8T', '8U', '8V', '8W', '8X', '8Y', '8Z', '90', '91', '92', '93', '94', '95', '96', '97', '98', '99', '9A', '9B', '9C', '9D', '9E', '9F', '9G', '9H', '9I', '9J', '9K', '9L', '9M', '9N', '9O', '9P', '9Q', '9R', '9S', '9T', '9U', '9V', '9W', '9X', '9Y', '9Z']\n"
     ]
    }
   ],
   "source": [
    "import networkx as nx\n",
    "G = nx.Graph()\n",
    "G.add_nodes_from(read_nodes(homer))\n",
    "G.add_edges_from(read_edges(homer))\n",
    "print(read_nodes(homer))"
   ]
  },
  {
   "cell_type": "markdown",
   "metadata": {},
   "source": [
    "Next implement procedure Search. The function takes in a graph and a root node, and returns a list of the nodes visited during the search. The nodes should appear in the order in which they were *first visited*. The neighbors of a node should be processed in *alphabetical order*, where numbers come before letters. This will ensure that the output of your function is uniquely defined, given any input node."
   ]
  },
  {
   "cell_type": "code",
   "execution_count": 5,
   "metadata": {},
   "outputs": [],
   "source": [
    "def Search(graph, root):\n",
    "    \"\"\"Runs Search from vertex root in a graph. Neighboring nodes are processed in alphabetical order.\n",
    "    \n",
    "    Args:\n",
    "        graph: the given graph, with nodes encoded as strings.\n",
    "        root: the node from which to start the search.\n",
    "        \n",
    "    Returns:\n",
    "        A list of nodes in the order in which they were first visited.\n",
    "    \"\"\"\n",
    "    # Initialize a set to track the nodes that have been visited during search\n",
    "    visited = set()\n",
    "    # Initialize a list that stores the order in which nodes are visited\n",
    "    visit_order = []\n",
    "    \n",
    "    # Since calling sorted recursively, need a helper function definition\n",
    "    # Takes in node, the current node being explored, and visited, set containing visited nodes\n",
    "    def explore(node, visited):\n",
    "        # adds the node to the visited \n",
    "        visited.add(node)\n",
    "        # appends the node to the visit_order list to keep track of the order\n",
    "        visit_order.append(node)\n",
    "\n",
    "        # Sort the neighbors alphabetically and store in sorted_neighbors\n",
    "        sorted_neighbors = sorted(graph.neighbors(node))\n",
    "        \n",
    "        # Iterate over each neighbor in sorted_neighbors\n",
    "        for neighbor in sorted_neighbors:\n",
    "            # Checks that neighbor has not been visited\n",
    "            if neighbor not in visited:\n",
    "                # Runs helper as the neighbor being the node\n",
    "                explore(neighbor, visited)\n",
    "\n",
    "    # Start from the root node\n",
    "    explore(root, visited)\n",
    "    \n",
    "    # Return nodes in the order they were first visited \n",
    "    return visit_order\n",
    "\n",
    "    pass   "
   ]
  },
  {
   "cell_type": "markdown",
   "metadata": {},
   "source": [
    "We will check the correctness of your code by verifying that it correctly computes the connected component of node Ulysses (node `OD`)."
   ]
  },
  {
   "cell_type": "code",
   "execution_count": 6,
   "metadata": {},
   "outputs": [],
   "source": [
    "ulysses = Search(G, 'OD')"
   ]
  },
  {
   "cell_type": "markdown",
   "metadata": {},
   "source": [
    "Next implement DFS to find the connected components of the character graph. When choosing roots for your components, always pick the *smallest unvisited node* according to alphabetical ordering. Combined with your Search routine, this will ensure that the output is again uniquely defined."
   ]
  },
  {
   "cell_type": "code",
   "execution_count": 7,
   "metadata": {},
   "outputs": [],
   "source": [
    "def connected_components(graph):\n",
    "    \"\"\"Computes the connected components of the given graph.\n",
    "    \n",
    "    Args: \n",
    "        graph: the given graph, with nodes encoded as strings.\n",
    "        \n",
    "    Returns:\n",
    "        The connected components of the graph. Components are listed in\n",
    "        alphabetical order of their root nodes.\n",
    "    \"\"\"\n",
    "    # Initialize a list to store the connected components\n",
    "    components = []\n",
    "    # Initialize a set to keep track of nodes visited\n",
    "    visited = set()\n",
    "\n",
    "    # Definition of a function to run DFS on a node\n",
    "    def DFS(node):\n",
    "        # use Search function to perform a depth-first search from the given node\n",
    "        component = Search(graph, node)\n",
    "        # Append the result of Search function to components\n",
    "        # the result contains the nodes in the order they were first visited \n",
    "        components.append(component)\n",
    "        # Updates visited set with the nodes in the component\n",
    "        visited.update(component)\n",
    "\n",
    "    # Sort nodes\n",
    "    nodes = sorted(graph.nodes())\n",
    "    \n",
    "    # Iterate over each node in the nodes list\n",
    "    for node in nodes:\n",
    "        # Checks that node has not been visited\n",
    "        if node not in visited:\n",
    "             # Start DFS from the unvisited node\n",
    "            DFS(node)\n",
    "            \n",
    "    # Return the list of components\n",
    "    return components\n",
    "\n",
    "    pass"
   ]
  },
  {
   "cell_type": "markdown",
   "metadata": {},
   "source": [
    "We will check correctness of your code by verifying that your output is identical to our solution."
   ]
  },
  {
   "cell_type": "code",
   "execution_count": 8,
   "metadata": {},
   "outputs": [],
   "source": [
    "character_interactions = connected_components(G)"
   ]
  },
  {
   "cell_type": "markdown",
   "metadata": {},
   "source": [
    "As a preliminary check, you should find that the following statements are all true."
   ]
  },
  {
   "cell_type": "code",
   "execution_count": 9,
   "metadata": {},
   "outputs": [
    {
     "name": "stdout",
     "output_type": "stream",
     "text": [
      "There are 12 connected components in the Iliad:True\n",
      "The giant component has size 542:True\n",
      "There are 5 isolated characters:True\n"
     ]
    }
   ],
   "source": [
    "component_sizes = [len(c) for c in character_interactions]\n",
    "print(\"There are 12 connected components in the Iliad:{}\".format(len(component_sizes) == 12))\n",
    "print(\"The giant component has size 542:{}\".format(max(component_sizes) == 542))\n",
    "print(\"There are 5 isolated characters:{}\".format(len([c for c in component_sizes if c == 1]) == 5))"
   ]
  },
  {
   "cell_type": "code",
   "execution_count": null,
   "metadata": {},
   "outputs": [],
   "source": []
  }
 ],
 "metadata": {
  "kernelspec": {
   "display_name": "Python 3 (ipykernel)",
   "language": "python",
   "name": "python3"
  },
  "language_info": {
   "codemirror_mode": {
    "name": "ipython",
    "version": 3
   },
   "file_extension": ".py",
   "mimetype": "text/x-python",
   "name": "python",
   "nbconvert_exporter": "python",
   "pygments_lexer": "ipython3",
   "version": "3.11.4"
  }
 },
 "nbformat": 4,
 "nbformat_minor": 1
}
